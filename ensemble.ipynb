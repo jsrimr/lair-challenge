{
 "cells": [
  {
   "cell_type": "code",
   "execution_count": 93,
   "metadata": {},
   "outputs": [],
   "source": [
    "from glob import glob\n",
    "import pickle\n",
    "import torch\n",
    "from utils import initialize\n",
    "import os\n",
    "import numpy as np\n",
    "import pandas as pd\n",
    "\n",
    "csv_feature_dict, label_encoder, label_decoder = initialize()"
   ]
  },
  {
   "cell_type": "code",
   "execution_count": 94,
   "metadata": {},
   "outputs": [],
   "source": [
    "def process_result(result):\n",
    "    logits = [o for batch in result[0] for o in batch['logits']]\n",
    "    processed = torch.stack(logits, axis=0)\n",
    "    # processed = torch.max(processed, axis=1, keepdim=True)\n",
    "    return processed"
   ]
  },
  {
   "cell_type": "code",
   "execution_count": 95,
   "metadata": {},
   "outputs": [],
   "source": [
    "result_list = []\n",
    "\n",
    "for file in glob(\"results/*\"):\n",
    "    with open(file, 'rb') as f:\n",
    "        result = pickle.load(f)\n",
    "        result = process_result(result)\n",
    "        result_list.append(result)"
   ]
  },
  {
   "cell_type": "code",
   "execution_count": 96,
   "metadata": {},
   "outputs": [
    {
     "data": {
      "text/plain": [
       "tensor([17, 14, 11,  ..., 17,  2, 17])"
      ]
     },
     "execution_count": 96,
     "metadata": {},
     "output_type": "execute_result"
    }
   ],
   "source": [
    "tmp = torch.stack(result_list)\n",
    "tmp = torch.sum(tmp, dim=[0])\n",
    "\n",
    "tmp = torch.argmax(tmp, axis=1)\n",
    "\n"
   ]
  },
  {
   "cell_type": "code",
   "execution_count": 97,
   "metadata": {},
   "outputs": [],
   "source": [
    "preds = np.array([label_decoder[int(val)] for val in tmp.numpy()])"
   ]
  },
  {
   "cell_type": "code",
   "execution_count": 100,
   "metadata": {},
   "outputs": [],
   "source": [
    "submission = pd.read_csv(f'data/sample_submission.csv')\n",
    "submission['label'] = preds\n",
    "\n",
    "contributors = ['_'.join(os.path.basename(path).split(\"_\")[:-1]) for path in glob(\"results/*\")]\n",
    "save_file_path = os.path.join('submissions', 'ensemble',','.join(contributors))  + '-submission.csv'\n",
    "\n",
    "submission.to_csv(save_file_path, index=False)"
   ]
  },
  {
   "cell_type": "code",
   "execution_count": null,
   "metadata": {},
   "outputs": [],
   "source": []
  }
 ],
 "metadata": {
  "interpreter": {
   "hash": "4d55debf5409a4d880b498ee9fd0750cab91c4255f097ebad7aaa185a1216178"
  },
  "kernelspec": {
   "display_name": "Python 3.8.12 64-bit ('PL': conda)",
   "language": "python",
   "name": "python3"
  },
  "language_info": {
   "codemirror_mode": {
    "name": "ipython",
    "version": 3
   },
   "file_extension": ".py",
   "mimetype": "text/x-python",
   "name": "python",
   "nbconvert_exporter": "python",
   "pygments_lexer": "ipython3",
   "version": "3.8.12"
  },
  "orig_nbformat": 4
 },
 "nbformat": 4,
 "nbformat_minor": 2
}
